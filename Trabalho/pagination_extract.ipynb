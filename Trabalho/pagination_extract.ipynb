{
 "cells": [
  {
   "cell_type": "code",
   "execution_count": 6,
   "metadata": {},
   "outputs": [],
   "source": [
    "from bs4 import BeautifulSoup\n",
    "\n",
    "content_html = ''\n",
    "with open('pagination.html', 'r', encoding='utf-8') as html:\n",
    "    content_html = html.read()\n",
    "\n",
    "soup = BeautifulSoup(content_html, 'lxml')"
   ]
  },
  {
   "cell_type": "code",
   "execution_count": 16,
   "metadata": {},
   "outputs": [
    {
     "data": {
      "text/plain": [
       "50"
      ]
     },
     "execution_count": 16,
     "metadata": {},
     "output_type": "execute_result"
    }
   ],
   "source": [
    "# Encontre todas as tags <li> dentro da lista de paginação\n",
    "pagination_items = soup.find_all('li', {'aria-label': 'pagination item'})\n",
    "numbers = []\n",
    "# Percorra os itens de paginação e imprima o conteúdo de texto de cada um\n",
    "for item in pagination_items:\n",
    "    text = item.get_text()\n",
    "    if text.isdigit():\n",
    "        numbers.append(int(text))\n",
    "\n",
    "\n",
    "max(numbers)"
   ]
  },
  {
   "cell_type": "code",
   "execution_count": 3,
   "metadata": {},
   "outputs": [],
   "source": [
    "# Encontra todas as tags <svg> e as remove\n",
    "#for svg_tag in soup.find_all('svg'):\n",
    "#    svg_tag.extract()\n",
    "\n",
    "# Imprime o HTML resultante sem as tags <svg>\n",
    "\n",
    "\n",
    "# Abre o arquivo em modo de escrita e escreve o conteúdo HTML\n",
    "#with open('page3.html', 'w', encoding='utf-8') as arquivo:\n",
    "#    arquivo.write(soup.prettify())"
   ]
  }
 ],
 "metadata": {
  "kernelspec": {
   "display_name": "Python 3",
   "language": "python",
   "name": "python3"
  },
  "language_info": {
   "codemirror_mode": {
    "name": "ipython",
    "version": 3
   },
   "file_extension": ".py",
   "mimetype": "text/x-python",
   "name": "python",
   "nbconvert_exporter": "python",
   "pygments_lexer": "ipython3",
   "version": "3.11.3"
  }
 },
 "nbformat": 4,
 "nbformat_minor": 2
}
