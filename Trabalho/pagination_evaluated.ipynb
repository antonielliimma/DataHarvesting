{
 "cells": [
  {
   "cell_type": "code",
   "execution_count": 28,
   "metadata": {},
   "outputs": [],
   "source": [
    "from bs4 import BeautifulSoup\n",
    "\n",
    "content_html = ''\n",
    "with open('evaluated.html', 'r', encoding='utf-8') as html:\n",
    "    content_html = html.read()\n",
    "\n",
    "soup = BeautifulSoup(content_html, 'lxml')"
   ]
  },
  {
   "cell_type": "code",
   "execution_count": 29,
   "metadata": {},
   "outputs": [],
   "source": [
    "# Encontra todas as tags <svg> e as remove\n",
    "for svg_tag in soup.find_all('svg'):\n",
    "    svg_tag.extract()\n",
    "\n",
    "# Imprime o HTML resultante sem as tags <svg>\n",
    "\n",
    "\n",
    "# Abre o arquivo em modo de escrita e escreve o conteúdo HTML\n",
    "with open('evaluated.html', 'w', encoding='utf-8') as arquivo:\n",
    "    arquivo.write(soup.prettify())"
   ]
  },
  {
   "cell_type": "code",
   "execution_count": 30,
   "metadata": {},
   "outputs": [
    {
     "name": "stdout",
     "output_type": "stream",
     "text": [
      "-1\n",
      "None\n",
      "-1\n",
      "None\n",
      "-1\n",
      "None\n",
      "-1\n"
     ]
    }
   ],
   "source": [
    "boxes = soup.find('div', class_='sc-1pe7b5t-0')\n",
    "records = []\n",
    "for box in boxes:\n",
    "    print(box.find('a'))\n",
    "#    print(box.find('a'))\n",
    "    #print(one.get('href'))\n",
    "    #records.append({\n",
    "    #    'uri': one.get('href')\n",
    "    #})\n",
    "\n"
   ]
  },
  {
   "cell_type": "code",
   "execution_count": 31,
   "metadata": {},
   "outputs": [
    {
     "name": "stdout",
     "output_type": "stream",
     "text": [
      "Status: \n",
      "      Resolvido\n",
      "     \n",
      "Href: /prefeitura-fortaleza/poste-em-via-movimentada-e-perigosa-apagado_UD3sLAL9CMEuql84/\n",
      "\n",
      "Status: \n",
      "      Não resolvido\n",
      "     \n",
      "Href: /prefeitura-fortaleza/buracos-e-mais-buracos-nas-vias_3vasELw27gnbFr1P/\n",
      "\n",
      "Status: \n",
      "      Não resolvido\n",
      "     \n",
      "Href: /prefeitura-fortaleza/invasao-irregular-em-rua-publica_69YDR6ses_Vjc7Dz/\n",
      "\n",
      "Status: \n",
      "      Resolvido\n",
      "     \n",
      "Href: /prefeitura-fortaleza/vacinacao_MYwvdgGicQIQAX2W/\n",
      "\n",
      "Status: \n",
      "      Resolvido\n",
      "     \n",
      "Href: /prefeitura-fortaleza/nao-fiscaliza-o-trabalho-da-seuma_md0Yl70LU77U-d7i/\n",
      "\n",
      "Status: \n",
      "      Não resolvido\n",
      "     \n",
      "Href: /prefeitura-fortaleza/falta-de-iluminacao-publica_aGAndFHbsKzDVOS0/\n",
      "\n",
      "Status: \n",
      "      Não resolvido\n",
      "     \n",
      "Href: /prefeitura-fortaleza/buraco-na-via_108164376/\n",
      "\n",
      "Status: \n",
      "      Não resolvido\n",
      "     \n",
      "Href: /prefeitura-fortaleza/alagamento-nas-ruas-proximas-ao-viaduto-da-av-raul-barbosa_108164362/\n",
      "\n",
      "Status: \n",
      "      Não resolvido\n",
      "     \n",
      "Href: /prefeitura-fortaleza/crateras-no-asfalto-ha-varios-anos-sem-providencia-pmf-sr-ii_108164326/\n",
      "\n",
      "Status: \n",
      "      Não resolvido\n",
      "     \n",
      "Href: /prefeitura-fortaleza/asfalto-incompleto_108164322/\n",
      "\n"
     ]
    },
    {
     "data": {
      "text/plain": [
       "10"
      ]
     },
     "execution_count": 31,
     "metadata": {},
     "output_type": "execute_result"
    }
   ],
   "source": [
    "divs = soup.find_all('div', class_='sc-1pe7b5t-0 iQGzPh')\n",
    "# Iterar sobre as tags div para extrair as informações\n",
    "for div in divs:\n",
    "    # Encontrar a tag 'a' dentro da div\n",
    "    link = div.find('a')\n",
    "    href = link['href']  # Extrair o atributo 'href'\n",
    "    \n",
    "    # Encontrar a tag 'h4' dentro da div\n",
    "    span = div.find('span', class_='sc-1pe7b5t-4')\n",
    "\n",
    "    # Imprimir as informações\n",
    "    print(\"Status:\", span.text)\n",
    "    print(\"Href:\", href)\n",
    "    print()\n",
    "\n",
    "len(divs)"
   ]
  }
 ],
 "metadata": {
  "kernelspec": {
   "display_name": "Python 3",
   "language": "python",
   "name": "python3"
  },
  "language_info": {
   "codemirror_mode": {
    "name": "ipython",
    "version": 3
   },
   "file_extension": ".py",
   "mimetype": "text/x-python",
   "name": "python",
   "nbconvert_exporter": "python",
   "pygments_lexer": "ipython3",
   "version": "3.11.3"
  }
 },
 "nbformat": 4,
 "nbformat_minor": 2
}
