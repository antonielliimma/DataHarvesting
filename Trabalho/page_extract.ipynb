{
 "cells": [
  {
   "cell_type": "code",
   "execution_count": 1,
   "metadata": {},
   "outputs": [],
   "source": [
    "from bs4 import BeautifulSoup\n",
    "\n",
    "content_html = ''\n",
    "with open('page1.html', 'r', encoding='utf-8') as html:\n",
    "    content_html = html.read()\n",
    "\n",
    "soup = BeautifulSoup(content_html, 'lxml')"
   ]
  },
  {
   "cell_type": "code",
   "execution_count": 3,
   "metadata": {},
   "outputs": [
    {
     "name": "stdout",
     "output_type": "stream",
     "text": [
      "Título da reclamação: Barulho de Bar e a AGEFIZ não fiscaliza\n",
      "Nome da empresa: Prefeitura - Fortaleza\n",
      "Localização: Sobral - CE\n",
      "Data de criação: 08/09/2023 às 22:44\n",
      "ID da reclamação: ID: 171692673\n",
      "Status da reclamação: Não respondida\n",
      "Descrição da reclamação: Realizei duas denúncias junto a AGEFIZ, órgão responsável da PMF, a. 1 em Maio e a 2 em agosto. Solicito que um Bar seja fiscalizado pelo alto volume de som gerando transtorno a toda a vizinhança.Estamos em setembro e não tive NENHUM avanço quanto as denúncias revelando a incompetência desse prefeito e de sua gestão.O pior é que fiz pedidos junto a Controladoria do Município para averiguar o porquê de tanto atraso. E nem mesmo a Controladoria deu algum retorno.É simplesmente uma gestão INCOMPENTENTE!\n"
     ]
    }
   ],
   "source": [
    "# Extrai informações específicas\n",
    "complaint_title = soup.find('h1', class_='lzlu7c-3 eisBFu').text\n",
    "company_name = soup.find('a', {'data-testid': 'company-page-link'}).text\n",
    "complaint_location = soup.find('span', {'data-testid': 'complaint-location'}).text\n",
    "complaint_creation_date = soup.find('span', {'data-testid': 'complaint-creation-date'}).text\n",
    "complaint_id = soup.find('span', {'data-testid': 'complaint-id'}).text\n",
    "complaint_status = soup.find('span', class_='sc-1a60wwz-1 kwzooO').text\n",
    "complaint_description = soup.find('p', {'data-testid': 'complaint-description'}).text\n",
    "\n",
    "# Imprime as informações\n",
    "print(f'Título da reclamação: {complaint_title}')\n",
    "print(f'Nome da empresa: {company_name}')\n",
    "print(f'Localização: {complaint_location}')\n",
    "print(f'Data de criação: {complaint_creation_date}')\n",
    "print(f'ID da reclamação: {complaint_id}')\n",
    "print(f'Status da reclamação: {complaint_status}')\n",
    "print(f'Descrição da reclamação: {complaint_description}')"
   ]
  },
  {
   "cell_type": "code",
   "execution_count": 2,
   "metadata": {},
   "outputs": [
    {
     "name": "stdout",
     "output_type": "stream",
     "text": [
      "Número extraído: 173284993\n"
     ]
    }
   ],
   "source": [
    "import re\n",
    "\n",
    "texto = \"ID: 173284993\"\n",
    "\n",
    "# Use uma expressão regular para encontrar o número\n",
    "numero = re.search(r'\\d+', texto)\n",
    "\n",
    "if numero:\n",
    "    numero_extraido = numero.group()\n",
    "    print(\"Número extraído:\", numero_extraido)\n",
    "else:\n",
    "    print(\"Número não encontrado no texto.\")\n"
   ]
  }
 ],
 "metadata": {
  "kernelspec": {
   "display_name": "Python 3",
   "language": "python",
   "name": "python3"
  },
  "language_info": {
   "codemirror_mode": {
    "name": "ipython",
    "version": 3
   },
   "file_extension": ".py",
   "mimetype": "text/x-python",
   "name": "python",
   "nbconvert_exporter": "python",
   "pygments_lexer": "ipython3",
   "version": "3.11.3"
  }
 },
 "nbformat": 4,
 "nbformat_minor": 2
}
