{
 "cells": [
  {
   "cell_type": "code",
   "execution_count": 1,
   "metadata": {},
   "outputs": [],
   "source": [
    "from bs4 import BeautifulSoup\n",
    "import pandas as pd"
   ]
  },
  {
   "cell_type": "code",
   "execution_count": 2,
   "metadata": {},
   "outputs": [],
   "source": [
    "content_html = ''\n",
    "with open('html.html', 'r', encoding='utf-8') as html:\n",
    "    content_html = html.read()\n",
    "\n",
    "soup = BeautifulSoup(content_html, 'lxml')"
   ]
  },
  {
   "cell_type": "code",
   "execution_count": 3,
   "metadata": {},
   "outputs": [
    {
     "data": {
      "text/html": [
       "<div>\n",
       "<style scoped>\n",
       "    .dataframe tbody tr th:only-of-type {\n",
       "        vertical-align: middle;\n",
       "    }\n",
       "\n",
       "    .dataframe tbody tr th {\n",
       "        vertical-align: top;\n",
       "    }\n",
       "\n",
       "    .dataframe thead th {\n",
       "        text-align: right;\n",
       "    }\n",
       "</style>\n",
       "<table border=\"1\" class=\"dataframe\">\n",
       "  <thead>\n",
       "    <tr style=\"text-align: right;\">\n",
       "      <th></th>\n",
       "      <th>product_id</th>\n",
       "      <th>title</th>\n",
       "      <th>caption</th>\n",
       "      <th>link</th>\n",
       "      <th>price</th>\n",
       "    </tr>\n",
       "  </thead>\n",
       "  <tbody>\n",
       "    <tr>\n",
       "      <th>0</th>\n",
       "      <td>x1555842</td>\n",
       "      <td>Python para Nubbies</td>\n",
       "      <td>Python.Lorem Ipsum Dolor amec ist dolor sit dum</td>\n",
       "      <td>https://amazon.br/python_para_nubbies</td>\n",
       "      <td>150.99</td>\n",
       "    </tr>\n",
       "    <tr>\n",
       "      <th>1</th>\n",
       "      <td>x1555555</td>\n",
       "      <td>Python Webscrapping</td>\n",
       "      <td>Webscrapping Lorem Ipsum Dolor amec ist dolor ...</td>\n",
       "      <td>https://amazon.br/webscrapping</td>\n",
       "      <td>85.99</td>\n",
       "    </tr>\n",
       "    <tr>\n",
       "      <th>2</th>\n",
       "      <td>x1555377</td>\n",
       "      <td>HTML para leigos</td>\n",
       "      <td>HTML para leigos Lorem Ipsum Dolor amec ist do...</td>\n",
       "      <td>https://amazon.br/html_para_leigos</td>\n",
       "      <td>55.99</td>\n",
       "    </tr>\n",
       "    <tr>\n",
       "      <th>3</th>\n",
       "      <td>x1555250</td>\n",
       "      <td>JAVA e PYTHON</td>\n",
       "      <td>JAVA e PYTHON Lorem Ipsum Dolor amec ist dolor...</td>\n",
       "      <td>https://amazon.br/java_e_python</td>\n",
       "      <td>200.99</td>\n",
       "    </tr>\n",
       "  </tbody>\n",
       "</table>\n",
       "</div>"
      ],
      "text/plain": [
       "  product_id                title  \\\n",
       "0   x1555842  Python para Nubbies   \n",
       "1   x1555555  Python Webscrapping   \n",
       "2   x1555377     HTML para leigos   \n",
       "3   x1555250        JAVA e PYTHON   \n",
       "\n",
       "                                             caption  \\\n",
       "0    Python.Lorem Ipsum Dolor amec ist dolor sit dum   \n",
       "1  Webscrapping Lorem Ipsum Dolor amec ist dolor ...   \n",
       "2  HTML para leigos Lorem Ipsum Dolor amec ist do...   \n",
       "3  JAVA e PYTHON Lorem Ipsum Dolor amec ist dolor...   \n",
       "\n",
       "                                    link   price  \n",
       "0  https://amazon.br/python_para_nubbies  150.99  \n",
       "1         https://amazon.br/webscrapping   85.99  \n",
       "2     https://amazon.br/html_para_leigos   55.99  \n",
       "3        https://amazon.br/java_e_python  200.99  "
      ]
     },
     "execution_count": 3,
     "metadata": {},
     "output_type": "execute_result"
    }
   ],
   "source": [
    "nodes = soup.find('div', {'class':'conteudo'}).ul.find_all('ul')\n",
    "\n",
    "books = []\n",
    "for node in nodes:\n",
    "    book = {}\n",
    "\n",
    "    product_id = node.find('li', {'class':'id_produto'})\n",
    "    if product_id is not None:\n",
    "        book['product_id'] = product_id.text\n",
    "\n",
    "    title = node.find('li', {'class':'titulo'})\n",
    "    if title is not None:\n",
    "        book['title'] = title.text\n",
    "\n",
    "    caption = node.find('li', {'class':'subtitulo'})\n",
    "    if caption is not None:\n",
    "        book['caption'] = caption.text\n",
    "\n",
    "    link = node.find('li', {'class':'link'})\n",
    "    if link is not None:\n",
    "        book['link'] = link.a.attrs['href']\n",
    "\n",
    "    price = node.find('li', {'class':'preco'})\n",
    "    if price is not None:\n",
    "        book['price'] = price.text\n",
    "\n",
    "    if len(book.items()) > 0:\n",
    "        books.append(book)\n",
    "\n",
    "df = pd.DataFrame(data=books)\n",
    "df['price'] = df['price'].apply(lambda x: float(x.replace(\"R$\", \"\").replace(\",\", \".\")))\n",
    "df"
   ]
  }
 ],
 "metadata": {
  "kernelspec": {
   "display_name": "Python 3",
   "language": "python",
   "name": "python3"
  },
  "language_info": {
   "codemirror_mode": {
    "name": "ipython",
    "version": 3
   },
   "file_extension": ".py",
   "mimetype": "text/x-python",
   "name": "python",
   "nbconvert_exporter": "python",
   "pygments_lexer": "ipython3",
   "version": "3.11.3"
  }
 },
 "nbformat": 4,
 "nbformat_minor": 2
}
